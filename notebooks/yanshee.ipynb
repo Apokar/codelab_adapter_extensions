{
 "cells": [
  {
   "cell_type": "code",
   "execution_count": 10,
   "metadata": {},
   "outputs": [],
   "source": [
    "# pip3 install logger https://github.com/UBTEDU/Yan_ADK/archive/latest.tar.gz\n",
    "import openadk\n",
    "from openadk.rest import ApiException\n",
    "from openadk.models.motions_parameter import MotionsParameter\n",
    "from openadk.models.motions_operation import MotionsOperation\n",
    "from openadk.api.motions_api import MotionsApi\n",
    "from loguru import logger\n",
    "import time\n",
    "\n",
    "class Robot:\n",
    "    def __init__(self, node=None):\n",
    "        self.node = node\n",
    "        self.configuration = None  # 标识是否连接\n",
    "        self.is_connected = False\n",
    "\n",
    "    def connect(self, robot_ip=\"raspberrypi.local\"):\n",
    "        # 如果未完成，则对robot的调用都弹出提醒\n",
    "        self.configuration = openadk.Configuration()  # openadk global\n",
    "        self.configuration.host = f'http://{robot_ip}:9090/v1'  # /ui\n",
    "        if self.ping_robot() == \"online\":\n",
    "            if self.node:\n",
    "                self.node.pub_notification(\"Device(Yanshee) Connected!\", type=\"SUCCESS\")  # 由一个积木建立连接到时触发\n",
    "            self.is_connected = True\n",
    "            return True\n",
    "\n",
    "    # 装饰器 require connect\n",
    "    def ping_robot(self):\n",
    "        if not self.configuration:\n",
    "            return\n",
    "        self.devices_api_instance = openadk.DevicesApi(\n",
    "            openadk.ApiClient(self.configuration))\n",
    "        try:\n",
    "            # Get system's battery information\n",
    "            api_response = self.devices_api_instance.get_devices_battery()\n",
    "            logger.debug(api_response)\n",
    "            return \"online\"\n",
    "        except ApiException as e:  # global\n",
    "            error_message = f\"Exception when calling DevicesApi->get_devices_battery: {str(e)}\"\n",
    "            logger.error(error_message)\n",
    "            if node:\n",
    "                node.pub_notification(error_message, type=\"ERROR\")\n",
    "\n",
    "    def play(\n",
    "        self,\n",
    "        name=\"wave\",  # GetUp, Hug, Bow , HappyBirthday, Forward Backward OneStepForward TurnLeft TurnRight\n",
    "        operation='start',\n",
    "        direction='both',\n",
    "        speed=\"fast\"):  # ['start', 'pause', 'resume', 'stop']\n",
    "\n",
    "        if not self.configuration:\n",
    "            return\n",
    "        motion_api_instance = MotionsApi(openadk.ApiClient(self.configuration))\n",
    "        timestamp = int(time.time())\n",
    "        kw = {\"name\": name, \"speed\": speed, \"repeat\": 1}\n",
    "        if direction:\n",
    "            kw[\"direction\"] = direction\n",
    "        motion = MotionsParameter(**kw)\n",
    "        body = MotionsOperation(motion=motion,\n",
    "                                operation=operation,\n",
    "                                timestamp=timestamp)\n",
    "        try:\n",
    "            ret = motion_api_instance.put_motions(body)\n",
    "        except ApiException as e:\n",
    "            error_message = f\"Exception when calling DevicesApi->get_devices_battery: {str(e)}\"\n",
    "            logger.error(error_message)\n",
    "            if node:\n",
    "                node.pub_notification(error_message, type=\"ERROR\")\n",
    "        # assert ret.code == 0\n",
    "        return ret\n",
    "\n",
    "    def bow(self):\n",
    "        if not self.configuration:\n",
    "            return\n",
    "        self.play(name=\"bow\", direction=\"\", speed=\"slow\", operation=\"start\")\n",
    "\n",
    "    def say(self, content=\"你好\"):\n",
    "        if not self.configuration:\n",
    "            return\n",
    "        timestamp = int(time.time())\n",
    "        api_instance = openadk.VoiceApi(openadk.ApiClient(self.configuration))\n",
    "        body = openadk.VoiceTTSStr(content)  # VoiceTTSStr |\n",
    "        api_response = api_instance.put_voice_tts(body)"
   ]
  },
  {
   "cell_type": "code",
   "execution_count": 11,
   "metadata": {},
   "outputs": [],
   "source": [
    "robot = Robot()"
   ]
  },
  {
   "cell_type": "code",
   "execution_count": 12,
   "metadata": {},
   "outputs": [
    {
     "name": "stderr",
     "output_type": "stream",
     "text": [
      "2020-06-02 16:05:23.799 | DEBUG    | __main__:ping_robot:35 - {'code': 0,\n",
      " 'data': {'charging': 0, 'percent': 93, 'voltage': 4048},\n",
      " 'msg': 'success'}\n"
     ]
    },
    {
     "data": {
      "text/plain": [
       "True"
      ]
     },
     "execution_count": 12,
     "metadata": {},
     "output_type": "execute_result"
    }
   ],
   "source": [
    "robot.connect(\"192.168.31.109\")"
   ]
  },
  {
   "cell_type": "code",
   "execution_count": 18,
   "metadata": {},
   "outputs": [],
   "source": [
    "robot.bow()\n",
    "robot.say(\"欢迎来到 codelab\")"
   ]
  },
  {
   "cell_type": "code",
   "execution_count": 23,
   "metadata": {},
   "outputs": [
    {
     "data": {
      "text/plain": [
       "{'code': 0, 'data': {'total_time': 3350}, 'msg': 'success'}"
      ]
     },
     "execution_count": 23,
     "metadata": {},
     "output_type": "execute_result"
    }
   ],
   "source": [
    "robot.play(name=\"OneStepForward\")"
   ]
  },
  {
   "cell_type": "code",
   "execution_count": 24,
   "metadata": {},
   "outputs": [
    {
     "data": {
      "text/plain": [
       "{'code': 0, 'data': {'total_time': 41430}, 'msg': 'success'}"
      ]
     },
     "execution_count": 24,
     "metadata": {},
     "output_type": "execute_result"
    }
   ],
   "source": [
    "robot.play(name=\"Forward\")"
   ]
  },
  {
   "cell_type": "code",
   "execution_count": 25,
   "metadata": {},
   "outputs": [
    {
     "data": {
      "text/plain": [
       "{'code': 0, 'data': {'total_time': 1790}, 'msg': 'success'}"
      ]
     },
     "execution_count": 25,
     "metadata": {},
     "output_type": "execute_result"
    }
   ],
   "source": [
    "robot.play(name=\"Stop\")"
   ]
  }
 ],
 "metadata": {
  "kernelspec": {
   "display_name": "Python 3",
   "language": "python",
   "name": "python3"
  },
  "language_info": {
   "codemirror_mode": {
    "name": "ipython",
    "version": 3
   },
   "file_extension": ".py",
   "mimetype": "text/x-python",
   "name": "python",
   "nbconvert_exporter": "python",
   "pygments_lexer": "ipython3",
   "version": "3.8.2"
  }
 },
 "nbformat": 4,
 "nbformat_minor": 4
}
